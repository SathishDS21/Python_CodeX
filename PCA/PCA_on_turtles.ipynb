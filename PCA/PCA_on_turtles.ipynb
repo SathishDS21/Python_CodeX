{
 "cells": [
  {
   "cell_type": "markdown",
   "metadata": {},
   "source": [
    "# Principal Component Analysis\n",
    "\n",
    "Principal Component Analysis, PCA, is a geometry-based transformation of numerical data. If there are correlations in the data features, then it is possible to _compress_ the original data down to a reduced number of features, while retaining most of the original information.\n",
    "\n",
    "PCA is mainly used for:\n",
    "- dimensionality reduction\n",
    "- higher-dimensional data plotting in lower-dimensional space\n",
    "- data digestion for machine learning algorithms\n",
    "\n",
    "We'll perform PCA on a small dataset of turtle shells features, from this 1960 paper:\n",
    "http://citeseerx.ist.psu.edu/viewdoc/download?doi=10.1.1.454.279&rep=rep1&type=pdf\n",
    "\n",
    "The analysis I am implementing in Python is derived from the Statistics Course taught by Professor Alessandro Giuliani (ISS) at Santa Lucia Hospital, Rome.\n",
    "\n",
    "There are excellent posts out there  explaining the theory: this notebook is about getting the stuff done. A good idea might be starting with Karl Pearson's (*that* Pearson, yes) 1901 paper, describing how distances are computed towards the new axes being created: https://www.tandfonline.com/doi/abs/10.1080/14786440109462720"
   ]
  },
  {
   "cell_type": "code",
   "execution_count": 1,
   "metadata": {},
   "outputs": [],
   "source": [
    "import pandas as pd\n",
    "from matplotlib import pyplot as plt\n",
    "from sklearn.decomposition import PCA\n",
    "from sklearn.preprocessing import StandardScaler\n",
    "import numpy as np\n",
    "import seaborn as sns\n",
    "%matplotlib inline\n",
    "\n",
    "sep = \"\\t\""
   ]
  },
  {
   "cell_type": "markdown",
   "metadata": {},
   "source": [
    "### Dataset\n",
    "The dataset is arranged in samples (turtles - rows) and features (columns).\n",
    "\n",
    "This is what the dataset looks like."
   ]
  },
  {
   "cell_type": "code",
   "execution_count": 2,
   "metadata": {},
   "outputs": [
    {
     "data": {
      "text/html": [
       "<div>\n",
       "<style scoped>\n",
       "    .dataframe tbody tr th:only-of-type {\n",
       "        vertical-align: middle;\n",
       "    }\n",
       "\n",
       "    .dataframe tbody tr th {\n",
       "        vertical-align: top;\n",
       "    }\n",
       "\n",
       "    .dataframe thead th {\n",
       "        text-align: right;\n",
       "    }\n",
       "</style>\n",
       "<table border=\"1\" class=\"dataframe\">\n",
       "  <thead>\n",
       "    <tr style=\"text-align: right;\">\n",
       "      <th></th>\n",
       "      <th>ID</th>\n",
       "      <th>Sex</th>\n",
       "      <th>length</th>\n",
       "      <th>width</th>\n",
       "      <th>height</th>\n",
       "    </tr>\n",
       "  </thead>\n",
       "  <tbody>\n",
       "    <tr>\n",
       "      <th>0</th>\n",
       "      <td>T25</td>\n",
       "      <td>F</td>\n",
       "      <td>98</td>\n",
       "      <td>81</td>\n",
       "      <td>38</td>\n",
       "    </tr>\n",
       "    <tr>\n",
       "      <th>1</th>\n",
       "      <td>T26</td>\n",
       "      <td>F</td>\n",
       "      <td>103</td>\n",
       "      <td>84</td>\n",
       "      <td>38</td>\n",
       "    </tr>\n",
       "    <tr>\n",
       "      <th>2</th>\n",
       "      <td>T27</td>\n",
       "      <td>F</td>\n",
       "      <td>103</td>\n",
       "      <td>86</td>\n",
       "      <td>42</td>\n",
       "    </tr>\n",
       "    <tr>\n",
       "      <th>3</th>\n",
       "      <td>T28</td>\n",
       "      <td>F</td>\n",
       "      <td>105</td>\n",
       "      <td>86</td>\n",
       "      <td>40</td>\n",
       "    </tr>\n",
       "    <tr>\n",
       "      <th>4</th>\n",
       "      <td>T29</td>\n",
       "      <td>F</td>\n",
       "      <td>109</td>\n",
       "      <td>88</td>\n",
       "      <td>44</td>\n",
       "    </tr>\n",
       "  </tbody>\n",
       "</table>\n",
       "</div>"
      ],
      "text/plain": [
       "    ID Sex  length  width  height\n",
       "0  T25   F      98     81      38\n",
       "1  T26   F     103     84      38\n",
       "2  T27   F     103     86      42\n",
       "3  T28   F     105     86      40\n",
       "4  T29   F     109     88      44"
      ]
     },
     "execution_count": 2,
     "metadata": {},
     "output_type": "execute_result"
    }
   ],
   "source": [
    "df = pd.read_csv(\"turtles.csv\", sep=sep)\n",
    "df.head()"
   ]
  },
  {
   "cell_type": "markdown",
   "metadata": {},
   "source": [
    "### Data Scaling\n",
    "\n",
    "In our quest towards dimensionality reduction, we are suggested to **scale** our data. If we fail to do it, then the features with numerical values far greather than others will tend to dominate. This might be the sought after behavior (I am told that in dynamics that would be OK), but most of the time it is not.\n",
    "To do that, we leverage on _sklearn_ built-in functions.\n",
    "\n",
    "In the doc's own words:\n",
    "> Feature scaling through standardization (or Z-score normalization) can be an important preprocessing step for many machine learning algorithms. Standardization involves rescaling the features such that they have the properties of a standard normal distribution with a mean of zero and a standard deviation of one.\n",
    "\n",
    "> While many algorithms (such as SVM, K-nearest neighbors, and logistic regression) require features to be normalized, intuitively we can think of Principle Component Analysis (PCA) as being a prime example of when normalization is important. In PCA we are interested in the components that maximize the variance. If one component (e.g. human height) varies less than another (e.g. weight) because of their respective scales (meters vs. kilos), PCA might determine that the direction of maximal variance more closely corresponds with the ‘weight’ axis, if those features are not scaled. As a change in height of one meter can be considered much more important than the change in weight of one kilogram, this is clearly incorrect."
   ]
  },
  {
   "cell_type": "code",
   "execution_count": 3,
   "metadata": {},
   "outputs": [
    {
     "name": "stderr",
     "output_type": "stream",
     "text": [
      "/Applications/Anaconda3/anaconda/envs/py37/lib/python3.7/site-packages/sklearn/utils/validation.py:590: DataConversionWarning: Data with input dtype int64 was converted to float64 by StandardScaler.\n",
      "  warnings.warn(msg, DataConversionWarning)\n",
      "/Applications/Anaconda3/anaconda/envs/py37/lib/python3.7/site-packages/sklearn/utils/validation.py:590: DataConversionWarning: Data with input dtype int64 was converted to float64 by StandardScaler.\n",
      "  warnings.warn(msg, DataConversionWarning)\n"
     ]
    }
   ],
   "source": [
    "# we select wanted columns by header name with DataFrame.loc, then get values back\n",
    "# as numpy ndarray with DataFrame.values\n",
    "features = [\"length\", \"width\", \"height\"]\n",
    "x = df.loc[:, features].values\n",
    "\n",
    "x = StandardScaler().fit_transform(x)\n",
    "dfx = pd.DataFrame(x, columns=features) # back to a dataframe"
   ]
  },
  {
   "cell_type": "markdown",
   "metadata": {},
   "source": [
    "Red messages always look scary. In this case, we are just told that 64-bit integers in the dafatrame have been converted to 64-bit floats. Not really something to worry about. I prefer to keep warnings, but for showcasing it might be convenient to ignore them, like this:"
   ]
  },
  {
   "cell_type": "code",
   "execution_count": 4,
   "metadata": {},
   "outputs": [],
   "source": [
    "# we select wanted columns by header name with DataFrame.loc, then get values back\n",
    "# as numpy ndarray with DataFrame.values\n",
    "features = [\"length\", \"width\", \"height\"]\n",
    "x = df.loc[:, features].values  # we are not picking \"Sex\".\n",
    "\n",
    "import warnings\n",
    "with warnings.catch_warnings():\n",
    "    warnings.simplefilter(\"ignore\")\n",
    "    x = StandardScaler().fit_transform(x)\n",
    "    dfx = pd.DataFrame(x, columns=features) # back to a dataframe"
   ]
  },
  {
   "cell_type": "markdown",
   "metadata": {},
   "source": [
    "Here is our scaled data:"
   ]
  },
  {
   "cell_type": "code",
   "execution_count": 5,
   "metadata": {},
   "outputs": [
    {
     "data": {
      "text/html": [
       "<div>\n",
       "<style scoped>\n",
       "    .dataframe tbody tr th:only-of-type {\n",
       "        vertical-align: middle;\n",
       "    }\n",
       "\n",
       "    .dataframe tbody tr th {\n",
       "        vertical-align: top;\n",
       "    }\n",
       "\n",
       "    .dataframe thead th {\n",
       "        text-align: right;\n",
       "    }\n",
       "</style>\n",
       "<table border=\"1\" class=\"dataframe\">\n",
       "  <thead>\n",
       "    <tr style=\"text-align: right;\">\n",
       "      <th></th>\n",
       "      <th>length</th>\n",
       "      <th>width</th>\n",
       "      <th>height</th>\n",
       "    </tr>\n",
       "  </thead>\n",
       "  <tbody>\n",
       "    <tr>\n",
       "      <th>0</th>\n",
       "      <td>-1.316787</td>\n",
       "      <td>-1.151031</td>\n",
       "      <td>-1.003417</td>\n",
       "    </tr>\n",
       "    <tr>\n",
       "      <th>1</th>\n",
       "      <td>-1.070083</td>\n",
       "      <td>-0.911856</td>\n",
       "      <td>-1.003417</td>\n",
       "    </tr>\n",
       "    <tr>\n",
       "      <th>2</th>\n",
       "      <td>-1.070083</td>\n",
       "      <td>-0.752406</td>\n",
       "      <td>-0.521777</td>\n",
       "    </tr>\n",
       "    <tr>\n",
       "      <th>3</th>\n",
       "      <td>-0.971401</td>\n",
       "      <td>-0.752406</td>\n",
       "      <td>-0.762597</td>\n",
       "    </tr>\n",
       "    <tr>\n",
       "      <th>4</th>\n",
       "      <td>-0.774037</td>\n",
       "      <td>-0.592955</td>\n",
       "      <td>-0.280957</td>\n",
       "    </tr>\n",
       "  </tbody>\n",
       "</table>\n",
       "</div>"
      ],
      "text/plain": [
       "     length     width    height\n",
       "0 -1.316787 -1.151031 -1.003417\n",
       "1 -1.070083 -0.911856 -1.003417\n",
       "2 -1.070083 -0.752406 -0.521777\n",
       "3 -0.971401 -0.752406 -0.762597\n",
       "4 -0.774037 -0.592955 -0.280957"
      ]
     },
     "execution_count": 5,
     "metadata": {},
     "output_type": "execute_result"
    }
   ],
   "source": [
    "dfx.head()"
   ]
  },
  {
   "cell_type": "markdown",
   "metadata": {},
   "source": [
    "### Features of Scaled Data\n",
    "\n",
    "Now each column has this interesting feature: mean = 0 and standard deviation = 1"
   ]
  },
  {
   "cell_type": "code",
   "execution_count": 6,
   "metadata": {},
   "outputs": [
    {
     "name": "stdout",
     "output_type": "stream",
     "text": [
      "length average: -1.850371707708594e-17 std: 1.0\n",
      "width average: 0.0 std: 1.0\n",
      "height average: -2.7755575615628914e-16 std: 1.0\n"
     ]
    }
   ],
   "source": [
    "for feature in features:\n",
    "    print(f\"{feature} average: {np.average(dfx[feature])} std: {np.std(dfx[feature])}\")"
   ]
  },
  {
   "cell_type": "markdown",
   "metadata": {},
   "source": [
    "Note that -1.850371707708594e-17 is really close to 0."
   ]
  },
  {
   "cell_type": "markdown",
   "metadata": {},
   "source": [
    "## Performing PCA\n",
    "\n",
    "The most important parameter that needs adjusting is _n_components_. Intuitively, it tells sklearn how many dimensions (i.e. features) you want to reduce your original data to. Also intuitively, this number lies between 1 and the original number of dimensions.\n",
    "\n",
    "Another interesting parameter is _whiten_. To understand what it does, here's what the doc says about it, but I'll redo the analysis with and without whitening the data at the end of the notebook:\n",
    "\n",
    "> When True (False by default) the components_ vectors are multiplied by the square root of n_samples and then divided by the singular values to ensure uncorrelated outputs with unit component-wise variances.\n",
    "\n",
    "> Whitening will remove some information from the transformed signal (the relative variance scales of the components) but can sometime improve the predictive accuracy of the downstream estimators by making their data respect some hard-wired assumptions."
   ]
  },
  {
   "cell_type": "code",
   "execution_count": 7,
   "metadata": {},
   "outputs": [
    {
     "data": {
      "text/html": [
       "<div>\n",
       "<style scoped>\n",
       "    .dataframe tbody tr th:only-of-type {\n",
       "        vertical-align: middle;\n",
       "    }\n",
       "\n",
       "    .dataframe tbody tr th {\n",
       "        vertical-align: top;\n",
       "    }\n",
       "\n",
       "    .dataframe thead th {\n",
       "        text-align: right;\n",
       "    }\n",
       "</style>\n",
       "<table border=\"1\" class=\"dataframe\">\n",
       "  <thead>\n",
       "    <tr style=\"text-align: right;\">\n",
       "      <th></th>\n",
       "      <th>PC1</th>\n",
       "      <th>PC2</th>\n",
       "      <th>Sex</th>\n",
       "    </tr>\n",
       "  </thead>\n",
       "  <tbody>\n",
       "    <tr>\n",
       "      <th>0</th>\n",
       "      <td>-1.157738</td>\n",
       "      <td>0.807548</td>\n",
       "      <td>F</td>\n",
       "    </tr>\n",
       "    <tr>\n",
       "      <th>1</th>\n",
       "      <td>-0.995436</td>\n",
       "      <td>-0.128592</td>\n",
       "      <td>F</td>\n",
       "    </tr>\n",
       "    <tr>\n",
       "      <th>2</th>\n",
       "      <td>-0.782197</td>\n",
       "      <td>1.374335</td>\n",
       "      <td>F</td>\n",
       "    </tr>\n",
       "    <tr>\n",
       "      <th>3</th>\n",
       "      <td>-0.829218</td>\n",
       "      <td>0.285269</td>\n",
       "      <td>F</td>\n",
       "    </tr>\n",
       "    <tr>\n",
       "      <th>4</th>\n",
       "      <td>-0.550007</td>\n",
       "      <td>1.481525</td>\n",
       "      <td>F</td>\n",
       "    </tr>\n",
       "  </tbody>\n",
       "</table>\n",
       "</div>"
      ],
      "text/plain": [
       "        PC1       PC2 Sex\n",
       "0 -1.157738  0.807548   F\n",
       "1 -0.995436 -0.128592   F\n",
       "2 -0.782197  1.374335   F\n",
       "3 -0.829218  0.285269   F\n",
       "4 -0.550007  1.481525   F"
      ]
     },
     "execution_count": 7,
     "metadata": {},
     "output_type": "execute_result"
    }
   ],
   "source": [
    "# === doing the analysis on scaled, whitened data ===\n",
    "\n",
    "# parameters\n",
    "n_components = 2\n",
    "whiten = True\n",
    "\n",
    "# instantiating the pca\n",
    "pca = PCA(n_components=n_components, whiten=whiten)\n",
    "\n",
    "# getting the principal components. x was the ndarray with scaled data\n",
    "# alternatively scaled data can be picked from:\n",
    "# with per-header indexes: dfx.loc[:, features]\n",
    "# with per-colnumber indexes: df.iloc[:, [0,1,2]]\n",
    "PC = pca.fit_transform(x)\n",
    "\n",
    "# putting the PCs, that are given back in form of ndarray, back to DataFrame\n",
    "dfPC = pd.DataFrame(PC, columns=[\"PC1\", \"PC2\"])\n",
    "dfPC[\"Sex\"] = df[\"Sex\"] # retrieving sex info\n",
    "\n",
    "dfPC.head()"
   ]
  },
  {
   "cell_type": "code",
   "execution_count": 8,
   "metadata": {},
   "outputs": [
    {
     "data": {
      "text/plain": [
       "Text(0.5, 1.0, 'PC on scaled, whitened data')"
      ]
     },
     "execution_count": 8,
     "metadata": {},
     "output_type": "execute_result"
    },
    {
     "data": {
      "image/png": "[encoded data removed]",
      "text/plain": [
       "<Figure size 432x288 with 1 Axes>"
      ]
     },
     "metadata": {
      "needs_background": "light"
     },
     "output_type": "display_data"
    }
   ],
   "source": [
    "# let's plot something\n",
    "fig = plt.figure()\n",
    "ax = sns.scatterplot(data=dfPC, x=\"PC1\", y=\"PC2\", hue=\"Sex\")\n",
    "ax.set_title(\"PC on scaled, whitened data\")"
   ]
  },
  {
   "cell_type": "markdown",
   "metadata": {},
   "source": [
    "That's it! We have reduced three dimensions to two. Let's see how much of the original information is in the PC we have found."
   ]
  },
  {
   "cell_type": "markdown",
   "metadata": {},
   "source": [
    "### PC analysis stats\n",
    "\n",
    "In sklearn, stuff with trailing underscore generally refer to stuff that has been computed during the analysis.\n",
    "Useful info can be retrieved in *PCA.explained_variance_ratio_* and *PCA.components_*"
   ]
  },
  {
   "cell_type": "code",
   "execution_count": 9,
   "metadata": {},
   "outputs": [
    {
     "data": {
      "text/plain": [
       "array([0.97857922, 0.01428129])"
      ]
     },
     "execution_count": 9,
     "metadata": {},
     "output_type": "execute_result"
    }
   ],
   "source": [
    "pca.explained_variance_ratio_"
   ]
  },
  {
   "cell_type": "markdown",
   "metadata": {},
   "source": [
    "We have that the first PC explains almost all variance, while the second explains about 1.4% of total variance. By construction, PCs are _independent_. Historically, we refer to PC1 as _size_, while to PC2 as _shape_.\n",
    "In this case, we learn that actually size is what matters more when it comes to defining turtle shells: of course, they **all** are turtle shells, so the maximum of information just tells us how big a turtle shell is.\n",
    "Other subtle differences (the effect of the environment or the sex on the shape, for instance) will be looked at in PC2."
   ]
  },
  {
   "cell_type": "code",
   "execution_count": 10,
   "metadata": {},
   "outputs": [
    {
     "data": {
      "text/plain": [
       "0.71"
      ]
     },
     "execution_count": 10,
     "metadata": {},
     "output_type": "execute_result"
    }
   ],
   "source": [
    "round(100 - sum(pca.explained_variance_ratio_)*100, 2)"
   ]
  },
  {
   "cell_type": "markdown",
   "metadata": {},
   "source": [
    "We have lost 0.71% of total information by reducing our dataset dimensions from three down to 2."
   ]
  },
  {
   "cell_type": "code",
   "execution_count": 11,
   "metadata": {},
   "outputs": [
    {
     "data": {
      "text/plain": [
       "array([[ 0.57879812,  0.57798399,  0.57526276],\n",
       "       [-0.32502731, -0.48346989,  0.81278171]])"
      ]
     },
     "execution_count": 11,
     "metadata": {},
     "output_type": "execute_result"
    }
   ],
   "source": [
    "pca.components_"
   ]
  },
  {
   "cell_type": "markdown",
   "metadata": {},
   "source": [
    "Another useful info is how much each of the original dimensions \"weigh\" in the definition of each PC.\n",
    "We see that basically PC1 is evenly affected by each (first row), while PC2 is negatively affected by length and width, and positively by height (second row).\n",
    "This means that there would be shell shapes that are going to be either shorter in length, narrower but taller, and other ones legthier, broader but shorter in height.\n",
    "\n",
    "In this case, it is easy to make \"real\" sense of the data. With more difficult datasets, this might be not be the case, but it also might not be important as long as the new PCs can hel us describe very complicated data.\n",
    "\n",
    "Mathematically, the squared sum of these components is 1:"
   ]
  },
  {
   "cell_type": "code",
   "execution_count": 12,
   "metadata": {},
   "outputs": [
    {
     "name": "stdout",
     "output_type": "stream",
     "text": [
      "0.9999999999999999\n",
      "1.0000000000000002\n"
     ]
    }
   ],
   "source": [
    "for vector in pca.components_:\n",
    "    print(sum(vector ** 2))"
   ]
  },
  {
   "cell_type": "markdown",
   "metadata": {},
   "source": [
    "### The effect of data scaling and whitening\n",
    "\n",
    "I'm going to briefly redo PCA on the original dataset with or without data scaling, and with or whitout whitening, and plot the results to practically see what the different approaches yield."
   ]
  },
  {
   "cell_type": "code",
   "execution_count": 13,
   "metadata": {},
   "outputs": [],
   "source": [
    "# === No scaling, no whitening===\n",
    "\n",
    "pca_noscale_black = PCA(n_components=2, whiten=False)\n",
    "PC_noscale_black = pca_noscale_black.fit_transform(df.iloc[:, [2,3,4]])\n",
    "dfPC_noscale_black = pd.DataFrame(PC_noscale_black, columns=[\"PC1\", \"PC2\"])\n",
    "dfPC_noscale_black[\"Sex\"] = df[\"Sex\"] # retrieving sex info\n",
    "\n",
    "# === Scaling, no whitening===\n",
    "pca_scale_black = PCA(n_components=2, whiten=False)\n",
    "PC_scale_black = pca_scale_black.fit_transform(x)\n",
    "dfPC_scale_black = pd.DataFrame(PC_scale_black, columns=[\"PC1\", \"PC2\"])\n",
    "dfPC_scale_black[\"Sex\"] = df[\"Sex\"] # retrieving sex info\n",
    "\n",
    "# === No scaling, whitening===\n",
    "pca_noscale_white = PCA(n_components=2, whiten=True)\n",
    "PC_noscale_white = pca_noscale_white.fit_transform(df.iloc[:, [2,3,4]])\n",
    "dfPC_noscale_white = pd.DataFrame(PC_noscale_white, columns=[\"PC1\", \"PC2\"])\n",
    "dfPC_noscale_white[\"Sex\"] = df[\"Sex\"] # retrieving sex info\n",
    "\n",
    "# === Scaling, whitening===\n",
    "# already done earlier :)"
   ]
  },
  {
   "cell_type": "code",
   "execution_count": 14,
   "metadata": {},
   "outputs": [
    {
     "data": {
      "text/plain": [
       "Text(0.5, 1.0, 'Scaled, whitened')"
      ]
     },
     "execution_count": 14,
     "metadata": {},
     "output_type": "execute_result"
    },
    {
     "data": {
      "image/png": "[encoded data removed]",
      "text/plain": [
       "<Figure size 432x288 with 4 Axes>"
      ]
     },
     "metadata": {
      "needs_background": "light"
     },
     "output_type": "display_data"
    }
   ],
   "source": [
    "#all happily together\n",
    "fig = plt.figure()\n",
    "fig.suptitle(\"Scaling and Whitening combinations\", fontsize=18, y=1.05)\n",
    "fig.subplots_adjust(hspace=0.8, wspace=0.5)\n",
    "\n",
    "ax = fig.add_subplot(2,2,1)\n",
    "ax = sns.scatterplot(data=dfPC_noscale_black, x=\"PC1\", y=\"PC2\", hue=\"Sex\")\n",
    "ax.legend().set_visible(False)\n",
    "ax.set_title(\"Not scaled, not whitened\")\n",
    "\n",
    "ax = fig.add_subplot(2,2,2)\n",
    "ax = sns.scatterplot(data=dfPC_scale_black, x=\"PC1\", y=\"PC2\", hue=\"Sex\")\n",
    "ax.legend().set_visible(False)\n",
    "ax.set_title(\"Scaled, not whitened\")\n",
    "\n",
    "ax = fig.add_subplot(2,2,3)\n",
    "ax = sns.scatterplot(data=dfPC_noscale_white, x=\"PC1\", y=\"PC2\", hue=\"Sex\")\n",
    "ax.legend().set_visible(False)\n",
    "ax.set_title(\"Not scaled, whitened\")\n",
    "\n",
    "ax = fig.add_subplot(2,2,4)\n",
    "ax = sns.scatterplot(data=dfPC, x=\"PC1\", y=\"PC2\", hue=\"Sex\")\n",
    "ax.legend().set_visible(False)\n",
    "ax.set_title(\"Scaled, whitened\")"
   ]
  },
  {
   "cell_type": "markdown",
   "metadata": {},
   "source": [
    "### PC stats with different scaling/whitening combinations\n",
    "\n",
    "Here are averages and standard deviations of PCs for all four combinations:"
   ]
  },
  {
   "cell_type": "code",
   "execution_count": 15,
   "metadata": {},
   "outputs": [
    {
     "name": "stdout",
     "output_type": "stream",
     "text": [
      "not scaled, not whitened PC1: 0.0 ± 25.1 \tPC2: 0.0 ± 2.3\n",
      "scaled, not whitened     PC1: 0.0 ± 1.7 \tPC2: 0.0 ± 0.2\n",
      "not scaled, whitened     PC1: 0.0 ± 1.0 \tPC2: 0.0 ± 1.0\n",
      "scaled, whitened         PC1: 0.0 ± 1.0 \tPC2: 0.0 ± 1.0\n"
     ]
    }
   ],
   "source": [
    "analyses = [dfPC_noscale_black, dfPC_scale_black, dfPC_noscale_white, dfPC]\n",
    "descriptions=[\n",
    "    \"not scaled, not whitened\",\n",
    "    \"scaled, not whitened    \",\n",
    "    \"not scaled, whitened    \",\n",
    "    \"scaled, whitened        \"\n",
    "]\n",
    "\n",
    "for data, descr in zip(analyses, descriptions):\n",
    "    ave_pc1 = np.average(data[\"PC1\"])\n",
    "    ave_pc2 = np.average(data[\"PC2\"])\n",
    "    sd_pc1  = np.std(data[\"PC1\"])\n",
    "    sd_pc2  = np.std(data[\"PC2\"])\n",
    "    print(f\"{descr} PC1: {abs(round(ave_pc1,1))} ± {round(sd_pc1,1)} {sep}PC2: {abs(round(ave_pc2,1))} ± {round(sd_pc2,1)}\")"
   ]
  },
  {
   "cell_type": "code",
   "execution_count": 16,
   "metadata": {},
   "outputs": [
    {
     "name": "stdout",
     "output_type": "stream",
     "text": [
      "not scaled, not whitened: [0.986113   0.00799921]\n",
      "scaled, not whitened    : [0.97857922 0.01428129]\n",
      "not scaled, whitened    : [0.986113   0.00799921]\n",
      "scaled, whitened        : [0.97857922 0.01428129]\n"
     ]
    }
   ],
   "source": [
    "analyses_PC = [pca_noscale_black, pca_scale_black, pca_noscale_white, pca]\n",
    "for analysis, descr in zip(analyses_PC, descriptions):\n",
    "    print(f\"{descr}: {analysis.explained_variance_ratio_}\")"
   ]
  },
  {
   "cell_type": "markdown",
   "metadata": {},
   "source": [
    "We thus learn that scaling, and not whitening, matters when it comes to computing principal components.\n",
    "Whitening acts on the numeric features of the PCs, making them with 0 average and 1 standard deviation.\n",
    "\n",
    "### Take home message\n",
    "\n",
    "**scaling** data makes the PC analysis more robust, and might be useful to dig out details from PC2+.\n",
    "\n",
    "**whitening** has no effect on the variance explained by PCs, it affects the numerical properties of PCs, making them with average == 0 and standard_deviation == 1.\n",
    "\n",
    "### Final remarks\n",
    "\n",
    "PCA has far more uses than those hinted at in this notebook. For instance, it can even be used to compress and decompress (reconstruct) data such as bitmap images. PCA include complex matrix operations behind the scenes, and words such as eigenvalues, eigenvectors and loadings\\*. These are not generally needed in the average molecular biology experiment (my field), and not discussed herein.\n",
    "\n",
    "\n",
    "\\*PCA.components_ are claimed to be vector loadings in most tutorials out there. PCA terminology tends to be rather opaque, because it heavily depends on the field where it is applied."
   ]
  },
  {
   "cell_type": "code",
   "execution_count": null,
   "metadata": {},
   "outputs": [],
   "source": []
  }
 ],
 "metadata": {
  "kernelspec": {
   "display_name": "Python 3",
   "language": "python",
   "name": "python3"
  },
  "language_info": {
   "codemirror_mode": {
    "name": "ipython",
    "version": 3
   },
   "file_extension": ".py",
   "mimetype": "text/x-python",
   "name": "python",
   "nbconvert_exporter": "python",
   "pygments_lexer": "ipython3",
   "version": "3.7.0"
  }
 },
 "nbformat": 4,
 "nbformat_minor": 2
}
